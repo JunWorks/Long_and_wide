{
 "cells": [
  {
   "cell_type": "markdown",
   "metadata": {},
   "source": [
    "# Long, Wide Data and How to Efficiently Plot Them\n",
    "\n",
    "---\n",
    "Often times when we deal with data, it comes with different formats. If you scrapped the data from a website, likely it is in **wide format**. In fact most data we physically see is in this format, since wide data is very intuitive and easier to understand. One good example would be this [NBA stat page from ESPN](https://www.espn.com/nba/stats/player/_/table/offensive/sort/avgPoints/dir/desc). \n",
    "\n",
    "On the other hand, **long format** data is less often to see. However it has it's own advanges like fast processing (using vectorized operation).\n",
    "\n",
    "In this notebook, I'll show how to transform the data between the two formats, how is long format faster to process, and how to effeciently plot each format. We will use the monthly percipitation data as our examples.\n",
    "\n",
    "---\n",
    "\n",
    "*Note: the weather data is retrieved from [this website](https://w2.weather.gov/climate/xmacis.php?wfo=mtr)  .*"
   ]
  },
  {
   "cell_type": "code",
   "execution_count": 1,
   "metadata": {},
   "outputs": [],
   "source": [
    "# import the necessary libs\n",
    "import pandas as pd\n",
    "import numpy as np\n",
    "import matplotlib.pyplot as plt\n",
    "import seaborn as sns\n",
    "\n",
    "%matplotlib inline"
   ]
  },
  {
   "cell_type": "code",
   "execution_count": 2,
   "metadata": {},
   "outputs": [],
   "source": [
    "# load the data to dataframe, we have two cities in California: San Francisco and Sacramento\n",
    "sf = pd.read_csv('SF_rainfall.csv')\n",
    "sac = pd.read_csv('Sacramento_rainfall.csv') "
   ]
  },
  {
   "cell_type": "code",
   "execution_count": 3,
   "metadata": {},
   "outputs": [
    {
     "data": {
      "text/html": [
       "<div>\n",
       "<style scoped>\n",
       "    .dataframe tbody tr th:only-of-type {\n",
       "        vertical-align: middle;\n",
       "    }\n",
       "\n",
       "    .dataframe tbody tr th {\n",
       "        vertical-align: top;\n",
       "    }\n",
       "\n",
       "    .dataframe thead th {\n",
       "        text-align: right;\n",
       "    }\n",
       "</style>\n",
       "<table border=\"1\" class=\"dataframe\">\n",
       "  <thead>\n",
       "    <tr style=\"text-align: right;\">\n",
       "      <th></th>\n",
       "      <th>Year</th>\n",
       "      <th>Jan</th>\n",
       "      <th>Feb</th>\n",
       "      <th>Mar</th>\n",
       "      <th>Apr</th>\n",
       "      <th>May</th>\n",
       "      <th>Jun</th>\n",
       "      <th>Jul</th>\n",
       "      <th>Aug</th>\n",
       "      <th>Sep</th>\n",
       "      <th>Oct</th>\n",
       "      <th>Nov</th>\n",
       "      <th>Dec</th>\n",
       "      <th>Annual</th>\n",
       "    </tr>\n",
       "  </thead>\n",
       "  <tbody>\n",
       "    <tr>\n",
       "      <td>0</td>\n",
       "      <td>2000</td>\n",
       "      <td>6.41</td>\n",
       "      <td>8.96</td>\n",
       "      <td>2.04</td>\n",
       "      <td>1.66</td>\n",
       "      <td>1.40</td>\n",
       "      <td>0.16</td>\n",
       "      <td>0.02</td>\n",
       "      <td>0.02</td>\n",
       "      <td>0.21</td>\n",
       "      <td>2.38</td>\n",
       "      <td>0.85</td>\n",
       "      <td>0.90</td>\n",
       "      <td>25.01</td>\n",
       "    </tr>\n",
       "    <tr>\n",
       "      <td>1</td>\n",
       "      <td>2001</td>\n",
       "      <td>3.76</td>\n",
       "      <td>7.73</td>\n",
       "      <td>1.58</td>\n",
       "      <td>1.89</td>\n",
       "      <td>0.00</td>\n",
       "      <td>0.15</td>\n",
       "      <td>0.01</td>\n",
       "      <td>0.05</td>\n",
       "      <td>0.18</td>\n",
       "      <td>0.51</td>\n",
       "      <td>5.18</td>\n",
       "      <td>10.75</td>\n",
       "      <td>31.79</td>\n",
       "    </tr>\n",
       "    <tr>\n",
       "      <td>2</td>\n",
       "      <td>2002</td>\n",
       "      <td>2.13</td>\n",
       "      <td>2.59</td>\n",
       "      <td>2.27</td>\n",
       "      <td>0.52</td>\n",
       "      <td>0.84</td>\n",
       "      <td>0.03</td>\n",
       "      <td>0.00</td>\n",
       "      <td>0.03</td>\n",
       "      <td>0.01</td>\n",
       "      <td>0.01</td>\n",
       "      <td>2.00</td>\n",
       "      <td>12.03</td>\n",
       "      <td>22.46</td>\n",
       "    </tr>\n",
       "    <tr>\n",
       "      <td>3</td>\n",
       "      <td>2003</td>\n",
       "      <td>1.75</td>\n",
       "      <td>1.80</td>\n",
       "      <td>1.71</td>\n",
       "      <td>3.60</td>\n",
       "      <td>0.93</td>\n",
       "      <td>0.00</td>\n",
       "      <td>0.00</td>\n",
       "      <td>0.06</td>\n",
       "      <td>0.00</td>\n",
       "      <td>0.04</td>\n",
       "      <td>2.22</td>\n",
       "      <td>7.69</td>\n",
       "      <td>19.80</td>\n",
       "    </tr>\n",
       "    <tr>\n",
       "      <td>4</td>\n",
       "      <td>2004</td>\n",
       "      <td>3.40</td>\n",
       "      <td>5.67</td>\n",
       "      <td>1.16</td>\n",
       "      <td>0.12</td>\n",
       "      <td>0.12</td>\n",
       "      <td>0.00</td>\n",
       "      <td>0.00</td>\n",
       "      <td>0.05</td>\n",
       "      <td>0.04</td>\n",
       "      <td>2.62</td>\n",
       "      <td>2.07</td>\n",
       "      <td>7.98</td>\n",
       "      <td>23.23</td>\n",
       "    </tr>\n",
       "  </tbody>\n",
       "</table>\n",
       "</div>"
      ],
      "text/plain": [
       "   Year   Jan   Feb   Mar   Apr   May   Jun   Jul   Aug   Sep   Oct   Nov  \\\n",
       "0  2000  6.41  8.96  2.04  1.66  1.40  0.16  0.02  0.02  0.21  2.38  0.85   \n",
       "1  2001  3.76  7.73  1.58  1.89  0.00  0.15  0.01  0.05  0.18  0.51  5.18   \n",
       "2  2002  2.13  2.59  2.27  0.52  0.84  0.03  0.00  0.03  0.01  0.01  2.00   \n",
       "3  2003  1.75  1.80  1.71  3.60  0.93  0.00  0.00  0.06  0.00  0.04  2.22   \n",
       "4  2004  3.40  5.67  1.16  0.12  0.12  0.00  0.00  0.05  0.04  2.62  2.07   \n",
       "\n",
       "     Dec Annual  \n",
       "0   0.90  25.01  \n",
       "1  10.75  31.79  \n",
       "2  12.03  22.46  \n",
       "3   7.69  19.80  \n",
       "4   7.98  23.23  "
      ]
     },
     "execution_count": 3,
     "metadata": {},
     "output_type": "execute_result"
    }
   ],
   "source": [
    "sf.head(5)"
   ]
  },
  {
   "cell_type": "code",
   "execution_count": 4,
   "metadata": {},
   "outputs": [
    {
     "name": "stdout",
     "output_type": "stream",
     "text": [
      "<class 'pandas.core.frame.DataFrame'>\n",
      "RangeIndex: 20 entries, 0 to 19\n",
      "Data columns (total 14 columns):\n",
      "Year      20 non-null int64\n",
      "Jan       20 non-null float64\n",
      "Feb       20 non-null float64\n",
      "Mar       20 non-null float64\n",
      "Apr       20 non-null float64\n",
      "May       20 non-null float64\n",
      "Jun       20 non-null float64\n",
      "Jul       20 non-null float64\n",
      "Aug       20 non-null float64\n",
      "Sep       20 non-null float64\n",
      "Oct       20 non-null float64\n",
      "Nov       20 non-null float64\n",
      "Dec       20 non-null object\n",
      "Annual    20 non-null object\n",
      "dtypes: float64(11), int64(1), object(2)\n",
      "memory usage: 2.3+ KB\n"
     ]
    }
   ],
   "source": [
    "sf.info()"
   ]
  },
  {
   "cell_type": "code",
   "execution_count": 5,
   "metadata": {},
   "outputs": [
    {
     "data": {
      "text/html": [
       "<div>\n",
       "<style scoped>\n",
       "    .dataframe tbody tr th:only-of-type {\n",
       "        vertical-align: middle;\n",
       "    }\n",
       "\n",
       "    .dataframe tbody tr th {\n",
       "        vertical-align: top;\n",
       "    }\n",
       "\n",
       "    .dataframe thead th {\n",
       "        text-align: right;\n",
       "    }\n",
       "</style>\n",
       "<table border=\"1\" class=\"dataframe\">\n",
       "  <thead>\n",
       "    <tr style=\"text-align: right;\">\n",
       "      <th></th>\n",
       "      <th>Year</th>\n",
       "      <th>Jan</th>\n",
       "      <th>Feb</th>\n",
       "      <th>Mar</th>\n",
       "      <th>Apr</th>\n",
       "      <th>May</th>\n",
       "      <th>Jun</th>\n",
       "      <th>Jul</th>\n",
       "      <th>Aug</th>\n",
       "      <th>Sep</th>\n",
       "      <th>Oct</th>\n",
       "      <th>Nov</th>\n",
       "      <th>Dec</th>\n",
       "      <th>Annual</th>\n",
       "    </tr>\n",
       "  </thead>\n",
       "  <tbody>\n",
       "    <tr>\n",
       "      <td>15</td>\n",
       "      <td>2015</td>\n",
       "      <td>0.00</td>\n",
       "      <td>1.47</td>\n",
       "      <td>0.12</td>\n",
       "      <td>1.30</td>\n",
       "      <td>0.09</td>\n",
       "      <td>0.12</td>\n",
       "      <td>0.09</td>\n",
       "      <td>0.02</td>\n",
       "      <td>0.09</td>\n",
       "      <td>0.00</td>\n",
       "      <td>1.43</td>\n",
       "      <td>5.18</td>\n",
       "      <td>9.91</td>\n",
       "    </tr>\n",
       "    <tr>\n",
       "      <td>16</td>\n",
       "      <td>2016</td>\n",
       "      <td>6.94</td>\n",
       "      <td>0.98</td>\n",
       "      <td>6.83</td>\n",
       "      <td>1.46</td>\n",
       "      <td>0.15</td>\n",
       "      <td>0.00</td>\n",
       "      <td>0.02</td>\n",
       "      <td>0.02</td>\n",
       "      <td>0.00</td>\n",
       "      <td>2.43</td>\n",
       "      <td>2.21</td>\n",
       "      <td>4.39</td>\n",
       "      <td>25.43</td>\n",
       "    </tr>\n",
       "    <tr>\n",
       "      <td>17</td>\n",
       "      <td>2017</td>\n",
       "      <td>9.42</td>\n",
       "      <td>7.60</td>\n",
       "      <td>3.93</td>\n",
       "      <td>2.25</td>\n",
       "      <td>0.00</td>\n",
       "      <td>0.10</td>\n",
       "      <td>0.00</td>\n",
       "      <td>0.01</td>\n",
       "      <td>0.10</td>\n",
       "      <td>0.31</td>\n",
       "      <td>2.83</td>\n",
       "      <td>0.15</td>\n",
       "      <td>26.70</td>\n",
       "    </tr>\n",
       "    <tr>\n",
       "      <td>18</td>\n",
       "      <td>2018</td>\n",
       "      <td>5.21</td>\n",
       "      <td>0.21</td>\n",
       "      <td>4.54</td>\n",
       "      <td>3.91</td>\n",
       "      <td>0.04</td>\n",
       "      <td>0.01</td>\n",
       "      <td>0.00</td>\n",
       "      <td>0.00</td>\n",
       "      <td>0.00</td>\n",
       "      <td>0.21</td>\n",
       "      <td>3.56</td>\n",
       "      <td>2.18</td>\n",
       "      <td>19.87</td>\n",
       "    </tr>\n",
       "    <tr>\n",
       "      <td>19</td>\n",
       "      <td>2019</td>\n",
       "      <td>5.13</td>\n",
       "      <td>7.94</td>\n",
       "      <td>4.31</td>\n",
       "      <td>0.43</td>\n",
       "      <td>1.94</td>\n",
       "      <td>0.00</td>\n",
       "      <td>0.00</td>\n",
       "      <td>0.00</td>\n",
       "      <td>0.12</td>\n",
       "      <td>0.01</td>\n",
       "      <td>1.46</td>\n",
       "      <td>M</td>\n",
       "      <td>M</td>\n",
       "    </tr>\n",
       "  </tbody>\n",
       "</table>\n",
       "</div>"
      ],
      "text/plain": [
       "    Year   Jan   Feb   Mar   Apr   May   Jun   Jul   Aug   Sep   Oct   Nov  \\\n",
       "15  2015  0.00  1.47  0.12  1.30  0.09  0.12  0.09  0.02  0.09  0.00  1.43   \n",
       "16  2016  6.94  0.98  6.83  1.46  0.15  0.00  0.02  0.02  0.00  2.43  2.21   \n",
       "17  2017  9.42  7.60  3.93  2.25  0.00  0.10  0.00  0.01  0.10  0.31  2.83   \n",
       "18  2018  5.21  0.21  4.54  3.91  0.04  0.01  0.00  0.00  0.00  0.21  3.56   \n",
       "19  2019  5.13  7.94  4.31  0.43  1.94  0.00  0.00  0.00  0.12  0.01  1.46   \n",
       "\n",
       "     Dec Annual  \n",
       "15  5.18   9.91  \n",
       "16  4.39  25.43  \n",
       "17  0.15  26.70  \n",
       "18  2.18  19.87  \n",
       "19     M      M  "
      ]
     },
     "execution_count": 5,
     "metadata": {},
     "output_type": "execute_result"
    }
   ],
   "source": [
    "sf.tail()"
   ]
  },
  {
   "cell_type": "markdown",
   "metadata": {},
   "source": [
    "Here is our observation of the data:\n",
    "1. Unit of the monthly percipitation is inch\n",
    "2. The first eleven months' data are stored as float, however the month of December and annual total are not\n",
    "3. We need to looking into the data and convet them into float\n",
    "4. It's because we are still in December of this year...the data is not yet available"
   ]
  },
  {
   "cell_type": "code",
   "execution_count": 6,
   "metadata": {
    "scrolled": false
   },
   "outputs": [
    {
     "data": {
      "text/html": [
       "<div>\n",
       "<style scoped>\n",
       "    .dataframe tbody tr th:only-of-type {\n",
       "        vertical-align: middle;\n",
       "    }\n",
       "\n",
       "    .dataframe tbody tr th {\n",
       "        vertical-align: top;\n",
       "    }\n",
       "\n",
       "    .dataframe thead th {\n",
       "        text-align: right;\n",
       "    }\n",
       "</style>\n",
       "<table border=\"1\" class=\"dataframe\">\n",
       "  <thead>\n",
       "    <tr style=\"text-align: right;\">\n",
       "      <th></th>\n",
       "      <th>Dec</th>\n",
       "      <th>Annual</th>\n",
       "    </tr>\n",
       "  </thead>\n",
       "  <tbody>\n",
       "    <tr>\n",
       "      <td>&lt;class 'str'&gt;</td>\n",
       "      <td>20</td>\n",
       "      <td>20</td>\n",
       "    </tr>\n",
       "  </tbody>\n",
       "</table>\n",
       "</div>"
      ],
      "text/plain": [
       "               Dec  Annual\n",
       "<class 'str'>   20      20"
      ]
     },
     "execution_count": 6,
     "metadata": {},
     "output_type": "execute_result"
    }
   ],
   "source": [
    "sf.iloc[:, -2:].applymap(type).apply(pd.value_counts)"
   ]
  },
  {
   "cell_type": "markdown",
   "metadata": {},
   "source": [
    "So the last two columns are all strings, next I need to conver the first 19 rows to float and find a way to fill the last row of Dec and Annual. "
   ]
  },
  {
   "cell_type": "code",
   "execution_count": 7,
   "metadata": {},
   "outputs": [],
   "source": [
    "# convert to float for last two columns (except the last row)\n",
    "sf.iloc[:, 12:] = sf.iloc[:-1, 12:].astype('float64')"
   ]
  },
  {
   "cell_type": "markdown",
   "metadata": {},
   "source": [
    "Now that we have convert the strings to float, we can fill the last row with some educated guess. Here I will just use the averge percipitation of December of the last 19 years, and then sum up for year 2019."
   ]
  },
  {
   "cell_type": "code",
   "execution_count": 8,
   "metadata": {},
   "outputs": [],
   "source": [
    "# fill the last row\n",
    "sf.iloc[19, 12] = round(sf.iloc[:-1, 12].mean(),2)\n",
    "sf.iloc[19, 13] = sf.iloc[19, 1:-1].sum()"
   ]
  },
  {
   "cell_type": "code",
   "execution_count": 9,
   "metadata": {},
   "outputs": [
    {
     "data": {
      "text/html": [
       "<div>\n",
       "<style scoped>\n",
       "    .dataframe tbody tr th:only-of-type {\n",
       "        vertical-align: middle;\n",
       "    }\n",
       "\n",
       "    .dataframe tbody tr th {\n",
       "        vertical-align: top;\n",
       "    }\n",
       "\n",
       "    .dataframe thead th {\n",
       "        text-align: right;\n",
       "    }\n",
       "</style>\n",
       "<table border=\"1\" class=\"dataframe\">\n",
       "  <thead>\n",
       "    <tr style=\"text-align: right;\">\n",
       "      <th></th>\n",
       "      <th>Year</th>\n",
       "      <th>Jan</th>\n",
       "      <th>Feb</th>\n",
       "      <th>Mar</th>\n",
       "      <th>Apr</th>\n",
       "      <th>May</th>\n",
       "      <th>Jun</th>\n",
       "      <th>Jul</th>\n",
       "      <th>Aug</th>\n",
       "      <th>Sep</th>\n",
       "      <th>Oct</th>\n",
       "      <th>Nov</th>\n",
       "      <th>Dec</th>\n",
       "      <th>Annual</th>\n",
       "    </tr>\n",
       "  </thead>\n",
       "  <tbody>\n",
       "    <tr>\n",
       "      <td>18</td>\n",
       "      <td>2018</td>\n",
       "      <td>5.21</td>\n",
       "      <td>0.21</td>\n",
       "      <td>4.54</td>\n",
       "      <td>3.91</td>\n",
       "      <td>0.04</td>\n",
       "      <td>0.01</td>\n",
       "      <td>0.0</td>\n",
       "      <td>0.0</td>\n",
       "      <td>0.00</td>\n",
       "      <td>0.21</td>\n",
       "      <td>3.56</td>\n",
       "      <td>2.18</td>\n",
       "      <td>19.87</td>\n",
       "    </tr>\n",
       "    <tr>\n",
       "      <td>19</td>\n",
       "      <td>2019</td>\n",
       "      <td>5.13</td>\n",
       "      <td>7.94</td>\n",
       "      <td>4.31</td>\n",
       "      <td>0.43</td>\n",
       "      <td>1.94</td>\n",
       "      <td>0.00</td>\n",
       "      <td>0.0</td>\n",
       "      <td>0.0</td>\n",
       "      <td>0.12</td>\n",
       "      <td>0.01</td>\n",
       "      <td>1.46</td>\n",
       "      <td>5.40</td>\n",
       "      <td>26.74</td>\n",
       "    </tr>\n",
       "  </tbody>\n",
       "</table>\n",
       "</div>"
      ],
      "text/plain": [
       "    Year   Jan   Feb   Mar   Apr   May   Jun  Jul  Aug   Sep   Oct   Nov  \\\n",
       "18  2018  5.21  0.21  4.54  3.91  0.04  0.01  0.0  0.0  0.00  0.21  3.56   \n",
       "19  2019  5.13  7.94  4.31  0.43  1.94  0.00  0.0  0.0  0.12  0.01  1.46   \n",
       "\n",
       "     Dec  Annual  \n",
       "18  2.18   19.87  \n",
       "19  5.40   26.74  "
      ]
     },
     "execution_count": 9,
     "metadata": {},
     "output_type": "execute_result"
    }
   ],
   "source": [
    "sf.tail(2)"
   ]
  },
  {
   "cell_type": "code",
   "execution_count": 10,
   "metadata": {},
   "outputs": [
    {
     "name": "stdout",
     "output_type": "stream",
     "text": [
      "<class 'pandas.core.frame.DataFrame'>\n",
      "RangeIndex: 20 entries, 0 to 19\n",
      "Data columns (total 14 columns):\n",
      "Year      20 non-null int64\n",
      "Jan       20 non-null float64\n",
      "Feb       20 non-null float64\n",
      "Mar       20 non-null float64\n",
      "Apr       20 non-null float64\n",
      "May       20 non-null float64\n",
      "Jun       20 non-null float64\n",
      "Jul       20 non-null float64\n",
      "Aug       20 non-null float64\n",
      "Sep       20 non-null float64\n",
      "Oct       20 non-null float64\n",
      "Nov       20 non-null float64\n",
      "Dec       20 non-null float64\n",
      "Annual    20 non-null float64\n",
      "dtypes: float64(13), int64(1)\n",
      "memory usage: 2.3 KB\n"
     ]
    }
   ],
   "source": [
    "sf.info()"
   ]
  },
  {
   "cell_type": "markdown",
   "metadata": {},
   "source": [
    "Next we do the same for the dataframe of Sacramento: sac"
   ]
  },
  {
   "cell_type": "code",
   "execution_count": 26,
   "metadata": {},
   "outputs": [],
   "source": [
    "sac.iloc[:, 12:] = sac.iloc[:, 12:].astype('float64')\n",
    "sac.iloc[19, 12] = round(sac.iloc[:-1, 12].mean(),2)\n",
    "sac.iloc[19, 13] = sac.iloc[19, 1:-1].sum()"
   ]
  },
  {
   "cell_type": "code",
   "execution_count": 12,
   "metadata": {},
   "outputs": [
    {
     "data": {
      "text/html": [
       "<div>\n",
       "<style scoped>\n",
       "    .dataframe tbody tr th:only-of-type {\n",
       "        vertical-align: middle;\n",
       "    }\n",
       "\n",
       "    .dataframe tbody tr th {\n",
       "        vertical-align: top;\n",
       "    }\n",
       "\n",
       "    .dataframe thead th {\n",
       "        text-align: right;\n",
       "    }\n",
       "</style>\n",
       "<table border=\"1\" class=\"dataframe\">\n",
       "  <thead>\n",
       "    <tr style=\"text-align: right;\">\n",
       "      <th></th>\n",
       "      <th>Year</th>\n",
       "      <th>Jan</th>\n",
       "      <th>Feb</th>\n",
       "      <th>Mar</th>\n",
       "      <th>Apr</th>\n",
       "      <th>May</th>\n",
       "      <th>Jun</th>\n",
       "      <th>Jul</th>\n",
       "      <th>Aug</th>\n",
       "      <th>Sep</th>\n",
       "      <th>Oct</th>\n",
       "      <th>Nov</th>\n",
       "      <th>Dec</th>\n",
       "      <th>Annual</th>\n",
       "    </tr>\n",
       "  </thead>\n",
       "  <tbody>\n",
       "    <tr>\n",
       "      <td>18</td>\n",
       "      <td>2018</td>\n",
       "      <td>5.07</td>\n",
       "      <td>0.66</td>\n",
       "      <td>5.37</td>\n",
       "      <td>2.45</td>\n",
       "      <td>0.42</td>\n",
       "      <td>0.0</td>\n",
       "      <td>0.0</td>\n",
       "      <td>0.0</td>\n",
       "      <td>0.00</td>\n",
       "      <td>0.04</td>\n",
       "      <td>2.36</td>\n",
       "      <td>2.65</td>\n",
       "      <td>19.02</td>\n",
       "    </tr>\n",
       "    <tr>\n",
       "      <td>19</td>\n",
       "      <td>2019</td>\n",
       "      <td>4.65</td>\n",
       "      <td>8.90</td>\n",
       "      <td>3.20</td>\n",
       "      <td>0.59</td>\n",
       "      <td>3.42</td>\n",
       "      <td>0.0</td>\n",
       "      <td>0.0</td>\n",
       "      <td>0.0</td>\n",
       "      <td>0.06</td>\n",
       "      <td>0.00</td>\n",
       "      <td>0.71</td>\n",
       "      <td>3.69</td>\n",
       "      <td>25.22</td>\n",
       "    </tr>\n",
       "  </tbody>\n",
       "</table>\n",
       "</div>"
      ],
      "text/plain": [
       "    Year   Jan   Feb   Mar   Apr   May  Jun  Jul  Aug   Sep   Oct   Nov   Dec  \\\n",
       "18  2018  5.07  0.66  5.37  2.45  0.42  0.0  0.0  0.0  0.00  0.04  2.36  2.65   \n",
       "19  2019  4.65  8.90  3.20  0.59  3.42  0.0  0.0  0.0  0.06  0.00  0.71  3.69   \n",
       "\n",
       "   Annual  \n",
       "18  19.02  \n",
       "19  25.22  "
      ]
     },
     "execution_count": 12,
     "metadata": {},
     "output_type": "execute_result"
    }
   ],
   "source": [
    "sac.tail(2)"
   ]
  },
  {
   "cell_type": "markdown",
   "metadata": {},
   "source": [
    "Next we will plot the boxplot for each month in the last twenty years first using the wide data."
   ]
  },
  {
   "cell_type": "code",
   "execution_count": 21,
   "metadata": {},
   "outputs": [
    {
     "data": {
      "image/png": "[encoded data removed]",
      "text/plain": [
       "<Figure size 720x360 with 1 Axes>"
      ]
     },
     "metadata": {
      "needs_background": "light"
     },
     "output_type": "display_data"
    }
   ],
   "source": [
    "# columns to plot\n",
    "months = list(sf.columns)[1:13]\n",
    "\n",
    "plt.figure(figsize = (10, 5))\n",
    "sf_box = sf[months].boxplot(widths = 0.3, grid = False)\n",
    "plt.xlabel('Month')\n",
    "plt.ylabel('Percipitation (inch)')\n",
    "plt.title('Monthly Rainfall of San Francisco (2000 - 2019)')\n",
    "plt.show()"
   ]
  },
  {
   "cell_type": "markdown",
   "metadata": {},
   "source": [
    "You can see it is quite easy to make the plot. What if we want to plot the data of Sacramento side by side. This becomes a fairly hard task for wide data. As you can see in the below, we have to plot the two dataframes separately, specify the width and position of each dataframe (otherwise they will overlap), and place the xticks at the center of two boxes. This is a lot of work and tweeking."
   ]
  },
  {
   "cell_type": "code",
   "execution_count": 61,
   "metadata": {},
   "outputs": [
    {
     "data": {
      "image/png": "[encoded data removed]",
      "text/plain": [
       "<Figure size 720x360 with 1 Axes>"
      ]
     },
     "metadata": {
      "needs_background": "light"
     },
     "output_type": "display_data"
    }
   ],
   "source": [
    "plt.figure(figsize = (10, 5))\n",
    "sf_box = sf[months].boxplot(widths = 0.25, positions=np.arange(12), grid = False)\n",
    "sac_box = sac[months].boxplot(widths = 0.25, positions=np.arange(0.3,12.3,1.0), grid = False)\n",
    "plt.xlabel('Month')\n",
    "plt.ylabel('Percipitation (inch)')\n",
    "plt.title('Monthly Rainfall (2000 - 2019)')\n",
    "plt.xticks(np.arange(0.15, 12.15, 1), months)\n",
    "\n",
    "plt.show()"
   ]
  },
  {
   "cell_type": "markdown",
   "metadata": {},
   "source": [
    "Now let's try to achieve the same using long farmat. First, we have to convert the data into long format and concat (or merge) the two dataframes."
   ]
  },
  {
   "cell_type": "code",
   "execution_count": 64,
   "metadata": {},
   "outputs": [],
   "source": [
    "sf_long = pd.melt(sf, id_vars = ['Year', 'Annual'], value_vars = months)\n",
    "sf_long.rename(columns = {'variable': 'Month', 'value': 'Percipitation'}, inplace = True)\n",
    "sf_long['City'] = 'SF'\n",
    "\n",
    "sac_long = pd.melt(sac, id_vars = ['Year', 'Annual'], value_vars = months)\n",
    "sac_long.rename(columns = {'variable': 'Month', 'value': 'Percipitation'}, inplace = True)\n",
    "sac_long['City'] = 'Sacramento'"
   ]
  },
  {
   "cell_type": "code",
   "execution_count": 65,
   "metadata": {},
   "outputs": [
    {
     "data": {
      "text/html": [
       "<div>\n",
       "<style scoped>\n",
       "    .dataframe tbody tr th:only-of-type {\n",
       "        vertical-align: middle;\n",
       "    }\n",
       "\n",
       "    .dataframe tbody tr th {\n",
       "        vertical-align: top;\n",
       "    }\n",
       "\n",
       "    .dataframe thead th {\n",
       "        text-align: right;\n",
       "    }\n",
       "</style>\n",
       "<table border=\"1\" class=\"dataframe\">\n",
       "  <thead>\n",
       "    <tr style=\"text-align: right;\">\n",
       "      <th></th>\n",
       "      <th>Year</th>\n",
       "      <th>Annual</th>\n",
       "      <th>Month</th>\n",
       "      <th>Percipitation</th>\n",
       "      <th>City</th>\n",
       "    </tr>\n",
       "  </thead>\n",
       "  <tbody>\n",
       "    <tr>\n",
       "      <td>0</td>\n",
       "      <td>2000</td>\n",
       "      <td>25.01</td>\n",
       "      <td>Jan</td>\n",
       "      <td>6.41</td>\n",
       "      <td>SF</td>\n",
       "    </tr>\n",
       "    <tr>\n",
       "      <td>1</td>\n",
       "      <td>2001</td>\n",
       "      <td>31.79</td>\n",
       "      <td>Jan</td>\n",
       "      <td>3.76</td>\n",
       "      <td>SF</td>\n",
       "    </tr>\n",
       "    <tr>\n",
       "      <td>2</td>\n",
       "      <td>2002</td>\n",
       "      <td>22.46</td>\n",
       "      <td>Jan</td>\n",
       "      <td>2.13</td>\n",
       "      <td>SF</td>\n",
       "    </tr>\n",
       "    <tr>\n",
       "      <td>3</td>\n",
       "      <td>2003</td>\n",
       "      <td>19.80</td>\n",
       "      <td>Jan</td>\n",
       "      <td>1.75</td>\n",
       "      <td>SF</td>\n",
       "    </tr>\n",
       "    <tr>\n",
       "      <td>4</td>\n",
       "      <td>2004</td>\n",
       "      <td>23.23</td>\n",
       "      <td>Jan</td>\n",
       "      <td>3.40</td>\n",
       "      <td>SF</td>\n",
       "    </tr>\n",
       "    <tr>\n",
       "      <td>...</td>\n",
       "      <td>...</td>\n",
       "      <td>...</td>\n",
       "      <td>...</td>\n",
       "      <td>...</td>\n",
       "      <td>...</td>\n",
       "    </tr>\n",
       "    <tr>\n",
       "      <td>235</td>\n",
       "      <td>2015</td>\n",
       "      <td>8.15</td>\n",
       "      <td>Dec</td>\n",
       "      <td>1.83</td>\n",
       "      <td>Sacramento</td>\n",
       "    </tr>\n",
       "    <tr>\n",
       "      <td>236</td>\n",
       "      <td>2016</td>\n",
       "      <td>22.86</td>\n",
       "      <td>Dec</td>\n",
       "      <td>3.77</td>\n",
       "      <td>Sacramento</td>\n",
       "    </tr>\n",
       "    <tr>\n",
       "      <td>237</td>\n",
       "      <td>2017</td>\n",
       "      <td>27.15</td>\n",
       "      <td>Dec</td>\n",
       "      <td>0.13</td>\n",
       "      <td>Sacramento</td>\n",
       "    </tr>\n",
       "    <tr>\n",
       "      <td>238</td>\n",
       "      <td>2018</td>\n",
       "      <td>19.02</td>\n",
       "      <td>Dec</td>\n",
       "      <td>2.65</td>\n",
       "      <td>Sacramento</td>\n",
       "    </tr>\n",
       "    <tr>\n",
       "      <td>239</td>\n",
       "      <td>2019</td>\n",
       "      <td>25.22</td>\n",
       "      <td>Dec</td>\n",
       "      <td>3.69</td>\n",
       "      <td>Sacramento</td>\n",
       "    </tr>\n",
       "  </tbody>\n",
       "</table>\n",
       "<p>480 rows × 5 columns</p>\n",
       "</div>"
      ],
      "text/plain": [
       "     Year  Annual Month  Percipitation        City\n",
       "0    2000   25.01   Jan           6.41          SF\n",
       "1    2001   31.79   Jan           3.76          SF\n",
       "2    2002   22.46   Jan           2.13          SF\n",
       "3    2003   19.80   Jan           1.75          SF\n",
       "4    2004   23.23   Jan           3.40          SF\n",
       "..    ...     ...   ...            ...         ...\n",
       "235  2015    8.15   Dec           1.83  Sacramento\n",
       "236  2016   22.86   Dec           3.77  Sacramento\n",
       "237  2017   27.15   Dec           0.13  Sacramento\n",
       "238  2018   19.02   Dec           2.65  Sacramento\n",
       "239  2019   25.22   Dec           3.69  Sacramento\n",
       "\n",
       "[480 rows x 5 columns]"
      ]
     },
     "execution_count": 65,
     "metadata": {},
     "output_type": "execute_result"
    }
   ],
   "source": [
    "combine_long = pd.concat([sf_long, sac_long], sort = False)\n",
    "combine_long"
   ]
  },
  {
   "cell_type": "code",
   "execution_count": 67,
   "metadata": {},
   "outputs": [
    {
     "data": {
      "image/png": "[encoded data removed]",
      "text/plain": [
       "<Figure size 720x360 with 1 Axes>"
      ]
     },
     "metadata": {
      "needs_background": "light"
     },
     "output_type": "display_data"
    }
   ],
   "source": [
    "plt.figure(figsize = (10, 5))\n",
    "sf_box_long = sns.boxplot(y = 'Percipitation', x = 'Month', hue = 'City', data = combine_long)\n",
    "plt.xlabel('Month')\n",
    "plt.ylabel('Percipitation (inch)')\n",
    "plt.title('Monthly Rainfall (2000 - 2019)')\n",
    "plt.show()"
   ]
  },
  {
   "cell_type": "code",
   "execution_count": null,
   "metadata": {},
   "outputs": [],
   "source": []
  },
  {
   "cell_type": "code",
   "execution_count": null,
   "metadata": {},
   "outputs": [],
   "source": []
  }
 ],
 "metadata": {
  "kernelspec": {
   "display_name": "Python 3",
   "language": "python",
   "name": "python3"
  },
  "language_info": {
   "codemirror_mode": {
    "name": "ipython",
    "version": 3
   },
   "file_extension": ".py",
   "mimetype": "text/x-python",
   "name": "python",
   "nbconvert_exporter": "python",
   "pygments_lexer": "ipython3",
   "version": "3.7.4"
  }
 },
 "nbformat": 4,
 "nbformat_minor": 2
}
